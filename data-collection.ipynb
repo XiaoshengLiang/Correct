{
 "cells": [
  {
   "cell_type": "code",
   "execution_count": 1,
   "metadata": {
    "collapsed": false
   },
   "outputs": [
    {
     "name": "stdout",
     "output_type": "stream",
     "text": [
      "                                            articles sortBy           source  \\\n",
      "0  {'author': 'Andrew Sparrow, Claire Phipps, Sev...    top  the-guardian-uk   \n",
      "1  {'author': 'Stephanie Kirchgaessner', 'title':...    top  the-guardian-uk   \n",
      "2  {'author': 'Ewen MacAskill, Robert Booth, Step...    top  the-guardian-uk   \n",
      "3  {'author': 'Lauren Gambino', 'title': 'Trump t...    top  the-guardian-uk   \n",
      "4  {'author': 'Kareem Shaheen, Nadia Khomami', 't...    top  the-guardian-uk   \n",
      "5  {'author': 'Steven Morris', 'title': 'Care hom...    top  the-guardian-uk   \n",
      "6  {'author': 'Patrick Wintour', 'title': 'Qatar:...    top  the-guardian-uk   \n",
      "7  {'author': '', 'title': 'Zookeeper killed by t...    top  the-guardian-uk   \n",
      "8  {'author': 'Adam Vaughan', 'title': 'Electric ...    top  the-guardian-uk   \n",
      "9  {'author': 'Jill Treanor', 'title': 'RBS court...    top  the-guardian-uk   \n",
      "\n",
      "  status  \n",
      "0     ok  \n",
      "1     ok  \n",
      "2     ok  \n",
      "3     ok  \n",
      "4     ok  \n",
      "5     ok  \n",
      "6     ok  \n",
      "7     ok  \n",
      "8     ok  \n",
      "9     ok  \n"
     ]
    }
   ],
   "source": [
    "import os\n",
    "import urllib.request\n",
    "import pandas as pd\n",
    "import requests\n",
    "import matplotlib\n",
    "import matplotlib.pyplot as plt \n",
    "import json\n",
    "from pandas.tools.plotting import scatter_matrix\n",
    "\n",
    "def get_raw_data(file_loc):\n",
    "    link = \"https://newsapi.org/v1/articles?source=the-guardian-uk&sortBy=top&apiKey=47236378059c4972a2c99d0d4f58cf61\"\n",
    "  \n",
    "    get_and_write_data(link, file_loc)  \n",
    "\n",
    "def get_and_write_data(link, file_loc): \n",
    "    response = urllib.request.urlopen(link)\n",
    "    html = response.read().decode()\n",
    "    data_dic = json.loads(html)\n",
    "    with open(file_loc,\"w\") as json_file:\n",
    "        json_file.write(json.dumps(data_dic))\n",
    "\n",
    "def read_file(file_loc):\n",
    "    with open(file_loc,\"r\") as json_file:\n",
    "        data = pd.read_json(json_file)\n",
    "    return data\n",
    "\n",
    "        \n",
    "# collect the data\n",
    "raw_file_loc = \"news-data-raw.txt\"\n",
    "get_raw_data(raw_file_loc)\n",
    "data = read_file(raw_file_loc)\n",
    "print (data)"
   ]
  },
  {
   "cell_type": "code",
   "execution_count": null,
   "metadata": {
    "collapsed": true
   },
   "outputs": [],
   "source": []
  }
 ],
 "metadata": {
  "kernelspec": {
   "display_name": "py3k",
   "language": "python",
   "name": "py3k"
  },
  "language_info": {
   "codemirror_mode": {
    "name": "ipython",
    "version": 3
   },
   "file_extension": ".py",
   "mimetype": "text/x-python",
   "name": "python",
   "nbconvert_exporter": "python",
   "pygments_lexer": "ipython3",
   "version": "3.6.0"
  }
 },
 "nbformat": 4,
 "nbformat_minor": 2
}
